{
 "cells": [
  {
   "cell_type": "markdown",
   "id": "bc8a5e05",
   "metadata": {},
   "source": [
    "# # Scores Program. \n",
    "\n",
    "In this excericse I modified a Test Scores program that gets the test scores that a user enters and then calculates and displays the average test score. The program was enhanced by storing the test scores in a list and then getting and displaying other statistics for the test scores. "
   ]
  },
  {
   "cell_type": "code",
   "execution_count": 1,
   "id": "38129f94",
   "metadata": {},
   "outputs": [
    {
     "name": "stdout",
     "output_type": "stream",
     "text": [
      "The Test Scores program\n",
      "Enter 'x' to exit\n",
      "\n",
      "Enter test score: 6\n",
      "Enter test score: 100\n",
      "Enter test score: 65\n",
      "Enter test score: 10\n",
      "Enter test score: x\n",
      "\n",
      "Score total:        181\n",
      "Number of Scores:   4\n",
      "Average Score:      45\n",
      "Lowest Score:     6\n",
      "Highest Score:    100\n",
      "\n",
      "Bye!\n"
     ]
    }
   ],
   "source": [
    "#!/usr/bin/env python3\n",
    "\n",
    "def display_welcome():\n",
    "    print(\"The Test Scores program\")\n",
    "    print(\"Enter 'x' to exit\")\n",
    "    print(\"\")\n",
    "\n",
    "def get_scores():\n",
    "    scores = []\n",
    "    while True:\n",
    "        score = input(\"Enter test score: \")\n",
    "        if score == \"x\":\n",
    "            return scores\n",
    "        else:\n",
    "            score = int(score)\n",
    "            if score >= 0 and score <= 100:\n",
    "                scores.append(score)\n",
    "            else:\n",
    "                print(\"Test score must be from 0 through 100. \" +\n",
    "                      \"Score discarded. Try again.\")\n",
    "\n",
    "def process_scores(score):\n",
    "    total_score = 0\n",
    "    for thisscore in score:\n",
    "        total_score += thisscore\n",
    "                \n",
    "    average_score = round (total_score/len (score))\n",
    "    # format and display the result\n",
    "    print()\n",
    "    print(\"Score total:       \", total_score)\n",
    "    print(\"Number of Scores:  \", len(score))\n",
    "    print(\"Average Score:     \", average_score)\n",
    "    print(\"Lowest Score:    \", min(score))\n",
    "    print(\"Highest Score:   \", max(score))\n",
    "\n",
    "def main():\n",
    "    display_welcome()\n",
    "    score = get_scores()\n",
    "    process_scores(score)\n",
    "    print(\"\")\n",
    "    print(\"Bye!\")\n",
    "\n",
    "# if started as the main module, call the main function\n",
    "if __name__ == \"__main__\":\n",
    "    main()"
   ]
  },
  {
   "cell_type": "code",
   "execution_count": null,
   "id": "da294479",
   "metadata": {},
   "outputs": [],
   "source": []
  },
  {
   "cell_type": "code",
   "execution_count": null,
   "id": "dc11880d",
   "metadata": {},
   "outputs": [],
   "source": []
  }
 ],
 "metadata": {
  "kernelspec": {
   "display_name": "Python 3",
   "language": "python",
   "name": "python3"
  },
  "language_info": {
   "codemirror_mode": {
    "name": "ipython",
    "version": 3
   },
   "file_extension": ".py",
   "mimetype": "text/x-python",
   "name": "python",
   "nbconvert_exporter": "python",
   "pygments_lexer": "ipython3",
   "version": "3.8.8"
  }
 },
 "nbformat": 4,
 "nbformat_minor": 5
}
